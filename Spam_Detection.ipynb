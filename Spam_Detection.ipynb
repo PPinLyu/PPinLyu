{
 "cells": [
  {
   "cell_type": "code",
   "execution_count": 1,
   "id": "6b041909-f882-41d4-8041-839fcc2abf18",
   "metadata": {
    "scrolled": true
   },
   "outputs": [
    {
     "name": "stderr",
     "output_type": "stream",
     "text": [
      "[nltk_data] Downloading package stopwords to\n",
      "[nltk_data]     /Users/pin.lyu/nltk_data...\n",
      "[nltk_data]   Package stopwords is already up-to-date!\n",
      "[nltk_data] Downloading package punkt to /Users/pin.lyu/nltk_data...\n",
      "[nltk_data]   Package punkt is already up-to-date!\n",
      "[nltk_data] Downloading package wordnet to /Users/pin.lyu/nltk_data...\n",
      "[nltk_data]   Package wordnet is already up-to-date!\n"
     ]
    },
    {
     "data": {
      "text/plain": [
       "True"
      ]
     },
     "execution_count": 1,
     "metadata": {},
     "output_type": "execute_result"
    }
   ],
   "source": [
    "import numpy as np\n",
    "import pandas as pd\n",
    "from sklearn.model_selection import train_test_split\n",
    "from sklearn.feature_extraction.text import CountVectorizer\n",
    "import matplotlib.pyplot as plt\n",
    "import seaborn as sns\n",
    "\n",
    "import re\n",
    "import nltk\n",
    "import inflect\n",
    "from nltk.corpus import stopwords\n",
    "from nltk.tokenize import word_tokenize\n",
    "from nltk.stem import WordNetLemmatizer\n",
    "\n",
    "nltk.download('stopwords')\n",
    "nltk.download('punkt')\n",
    "nltk.download('wordnet')"
   ]
  },
  {
   "cell_type": "markdown",
   "id": "e2b5e2c3-78db-4722-8d42-d72afe01ed27",
   "metadata": {},
   "source": [
    "### EDA"
   ]
  },
  {
   "cell_type": "code",
   "execution_count": 3,
   "id": "4672f706-0fc9-4c08-9b50-9a9199e96a1e",
   "metadata": {},
   "outputs": [
    {
     "data": {
      "text/html": [
       "<div>\n",
       "<style scoped>\n",
       "    .dataframe tbody tr th:only-of-type {\n",
       "        vertical-align: middle;\n",
       "    }\n",
       "\n",
       "    .dataframe tbody tr th {\n",
       "        vertical-align: top;\n",
       "    }\n",
       "\n",
       "    .dataframe thead th {\n",
       "        text-align: right;\n",
       "    }\n",
       "</style>\n",
       "<table border=\"1\" class=\"dataframe\">\n",
       "  <thead>\n",
       "    <tr style=\"text-align: right;\">\n",
       "      <th></th>\n",
       "      <th>text</th>\n",
       "      <th>spam</th>\n",
       "    </tr>\n",
       "  </thead>\n",
       "  <tbody>\n",
       "    <tr>\n",
       "      <th>0</th>\n",
       "      <td>Subject: naturally irresistible your corporate...</td>\n",
       "      <td>1</td>\n",
       "    </tr>\n",
       "    <tr>\n",
       "      <th>1</th>\n",
       "      <td>Subject: the stock trading gunslinger  fanny i...</td>\n",
       "      <td>1</td>\n",
       "    </tr>\n",
       "    <tr>\n",
       "      <th>2</th>\n",
       "      <td>Subject: unbelievable new homes made easy  im ...</td>\n",
       "      <td>1</td>\n",
       "    </tr>\n",
       "    <tr>\n",
       "      <th>3</th>\n",
       "      <td>Subject: 4 color printing special  request add...</td>\n",
       "      <td>1</td>\n",
       "    </tr>\n",
       "    <tr>\n",
       "      <th>4</th>\n",
       "      <td>Subject: do not have money , get software cds ...</td>\n",
       "      <td>1</td>\n",
       "    </tr>\n",
       "  </tbody>\n",
       "</table>\n",
       "</div>"
      ],
      "text/plain": [
       "                                                text  spam\n",
       "0  Subject: naturally irresistible your corporate...     1\n",
       "1  Subject: the stock trading gunslinger  fanny i...     1\n",
       "2  Subject: unbelievable new homes made easy  im ...     1\n",
       "3  Subject: 4 color printing special  request add...     1\n",
       "4  Subject: do not have money , get software cds ...     1"
      ]
     },
     "execution_count": 3,
     "metadata": {},
     "output_type": "execute_result"
    }
   ],
   "source": [
    "# load data\n",
    "\n",
    "email = pd.read_csv(\"/Users/pin.lyu/Documents/BC_Folder/NPL/Data/emails.csv\")\n",
    "\n",
    "# make a copy of the original data for operation\n",
    "\n",
    "email_data = email\n",
    "\n",
    "# show data\n",
    "\n",
    "email_data.head(5)"
   ]
  },
  {
   "cell_type": "code",
   "execution_count": 4,
   "id": "9217063f-3076-476f-97f0-66917d89f171",
   "metadata": {},
   "outputs": [
    {
     "name": "stdout",
     "output_type": "stream",
     "text": [
      "spam\n",
      "0    4360\n",
      "1    1368\n",
      "Name: count, dtype: int64\n"
     ]
    }
   ],
   "source": [
    "# Check class distribution\n",
    "\n",
    "print(email_data['spam'].value_counts())  "
   ]
  },
  {
   "cell_type": "code",
   "execution_count": 5,
   "id": "73f14148-c27f-4b70-88b8-0a5da07cdfa5",
   "metadata": {},
   "outputs": [
    {
     "name": "stdout",
     "output_type": "stream",
     "text": [
      "This is a imbalanced dataset. Modeling results may be poor due to this reason\n"
     ]
    }
   ],
   "source": [
    "# comment\n",
    "\n",
    "print('This is a imbalanced dataset. Modeling results may be poor due to this reason')"
   ]
  },
  {
   "cell_type": "markdown",
   "id": "1b02ece6-91e7-45ee-b0ea-9859c9352e26",
   "metadata": {},
   "source": [
    "### Data Operation"
   ]
  },
  {
   "cell_type": "code",
   "execution_count": 7,
   "id": "28a7d3f4-d35f-42c3-a85f-a783f3d0f409",
   "metadata": {},
   "outputs": [],
   "source": [
    "# defining cleaning function \n",
    "\n",
    "def clean_text(text):\n",
    "    \n",
    "    # Remove special characters and numbers\n",
    "    \n",
    "    text = re.sub(r'\\W', ' ', text)  # Remove non-alphanumeric characters\n",
    "    \n",
    "    text = re.sub(r'\\s+', ' ', text)  # Replace multiple spaces with a single space\n",
    "    \n",
    "    text = text.lower()  # Convert to lowercase\n",
    "    \n",
    "    return text"
   ]
  },
  {
   "cell_type": "code",
   "execution_count": 8,
   "id": "1a6c2956-26fe-495a-ba79-8400ac030da5",
   "metadata": {},
   "outputs": [],
   "source": [
    "#def clean_text(text):\n",
    "    # Remove special characters\n",
    "    #text = re.sub(r'\\W', ' ', text)  # Remove non-alphanumeric characters\n",
    "    #text = re.sub(r'\\s+', ' ', text)  # Replace multiple spaces with a single space\n",
    "    #text = text.lower()  # Convert to lowercase\n",
    "\n",
    "    # Tokenize the text\n",
    "   # words = word_tokenize(text)\n",
    "\n",
    "    # Remove stop words\n",
    "    #stop_words = set(stopwords.words('english'))\n",
    "    #words = [word for word in words if word not in stop_words]\n",
    "\n",
    "    # Convert numbers to words\n",
    "    #p = inflect.engine()\n",
    "   # words = [p.number_to_words(word) if word.isdigit() else word for word in words]\n",
    "\n",
    "    # Lemmatization\n",
    "    #lemmatizer = WordNetLemmatizer()\n",
    "    #words = [lemmatizer.lemmatize(word) for word in words]\n",
    "\n",
    "    #return ' '.join(words)"
   ]
  },
  {
   "cell_type": "code",
   "execution_count": 9,
   "id": "3aaa1a0c-3b3a-4194-9ce5-840950b9fe1f",
   "metadata": {},
   "outputs": [],
   "source": [
    "# cleaning the 'text' column in all three datasets\n",
    "\n",
    "email_data['text'] = email_data['text'].apply(clean_text)"
   ]
  },
  {
   "cell_type": "code",
   "execution_count": 10,
   "id": "96032514-1a79-4c08-8229-2a1792e88b67",
   "metadata": {},
   "outputs": [],
   "source": [
    "# Initialize CountVectorizer with 2-grams\n",
    "\n",
    "vectorizer = CountVectorizer(ngram_range=(2, 2), max_features=5000)  # Limit to top 5000 features\n",
    "\n",
    "# Fit and transform the text data\n",
    "\n",
    "# Features\n",
    "\n",
    "X = vectorizer.fit_transform(email_data['text']).toarray() \n",
    "\n",
    "# Labels\n",
    "\n",
    "y = email_data['spam']  "
   ]
  },
  {
   "cell_type": "code",
   "execution_count": 11,
   "id": "969029ea-9876-4154-a4fa-559f8ff3533b",
   "metadata": {},
   "outputs": [],
   "source": [
    "# Split into training + test (80%) and validation (20%)\n",
    "\n",
    "X_train_test, X_val, y_train_test, y_val = train_test_split(X, y, test_size=0.2, random_state=42)\n",
    "\n",
    "# Split training + test into training (80%) and test (20%)\n",
    "\n",
    "X_train, X_test, y_train, y_test = train_test_split(X_train_test, y_train_test, test_size=0.2, random_state=42)"
   ]
  },
  {
   "cell_type": "markdown",
   "id": "c0678450-a50c-4af5-ba8a-0e067666153d",
   "metadata": {},
   "source": [
    "### Model Building"
   ]
  },
  {
   "cell_type": "code",
   "execution_count": 13,
   "id": "bc4ad6f8-8795-448d-aeae-817a07ebdf0d",
   "metadata": {},
   "outputs": [],
   "source": [
    "from sklearn.naive_bayes import MultinomialNB\n",
    "from sklearn.linear_model import LogisticRegression\n",
    "from sklearn.ensemble import RandomForestClassifier\n",
    "from sklearn.svm import SVC\n",
    "from sklearn.metrics import accuracy_score, classification_report, confusion_matrix"
   ]
  },
  {
   "cell_type": "code",
   "execution_count": 14,
   "id": "2decbb07-da6d-4622-ae1e-9af52a9d1cb4",
   "metadata": {},
   "outputs": [],
   "source": [
    "models = {\n",
    "    \"Naive Bayes\": MultinomialNB(),\n",
    "    \"Logistic Regression\": LogisticRegression(max_iter=1000),  \n",
    "    \"Random Forest\": RandomForestClassifier(n_estimators=100, random_state=42),\n",
    "    \"SVM\": SVC(kernel='linear', random_state=42)\n",
    "}"
   ]
  },
  {
   "cell_type": "code",
   "execution_count": 15,
   "id": "0316f3a8-2359-4943-b7ca-f4d432079467",
   "metadata": {},
   "outputs": [
    {
     "name": "stdout",
     "output_type": "stream",
     "text": [
      "Training Naive Bayes...\n",
      "Results for Naive Bayes:\n",
      "Accuracy: 0.9553\n",
      "Classification Report:\n",
      "              precision    recall  f1-score   support\n",
      "\n",
      "           0       0.97      0.97      0.97       707\n",
      "           1       0.90      0.91      0.90       210\n",
      "\n",
      "    accuracy                           0.96       917\n",
      "   macro avg       0.93      0.94      0.94       917\n",
      "weighted avg       0.96      0.96      0.96       917\n",
      "\n",
      "Confusion Matrix:\n",
      "[[685  22]\n",
      " [ 19 191]]\n",
      "--------------------------------------------------\n",
      "Training Logistic Regression...\n",
      "Results for Logistic Regression:\n",
      "Accuracy: 0.9607\n",
      "Classification Report:\n",
      "              precision    recall  f1-score   support\n",
      "\n",
      "           0       0.96      0.99      0.97       707\n",
      "           1       0.96      0.87      0.91       210\n",
      "\n",
      "    accuracy                           0.96       917\n",
      "   macro avg       0.96      0.93      0.94       917\n",
      "weighted avg       0.96      0.96      0.96       917\n",
      "\n",
      "Confusion Matrix:\n",
      "[[699   8]\n",
      " [ 28 182]]\n",
      "--------------------------------------------------\n",
      "Training Random Forest...\n",
      "Results for Random Forest:\n",
      "Accuracy: 0.9477\n",
      "Classification Report:\n",
      "              precision    recall  f1-score   support\n",
      "\n",
      "           0       0.96      0.98      0.97       707\n",
      "           1       0.92      0.85      0.88       210\n",
      "\n",
      "    accuracy                           0.95       917\n",
      "   macro avg       0.94      0.91      0.92       917\n",
      "weighted avg       0.95      0.95      0.95       917\n",
      "\n",
      "Confusion Matrix:\n",
      "[[691  16]\n",
      " [ 32 178]]\n",
      "--------------------------------------------------\n",
      "Training SVM...\n",
      "Results for SVM:\n",
      "Accuracy: 0.9378\n",
      "Classification Report:\n",
      "              precision    recall  f1-score   support\n",
      "\n",
      "           0       0.96      0.96      0.96       707\n",
      "           1       0.86      0.87      0.86       210\n",
      "\n",
      "    accuracy                           0.94       917\n",
      "   macro avg       0.91      0.91      0.91       917\n",
      "weighted avg       0.94      0.94      0.94       917\n",
      "\n",
      "Confusion Matrix:\n",
      "[[678  29]\n",
      " [ 28 182]]\n",
      "--------------------------------------------------\n"
     ]
    }
   ],
   "source": [
    "results = {}\n",
    "\n",
    "for name, model in models.items():\n",
    "    \n",
    "    print(f\"Training {name}...\")\n",
    "\n",
    "    # Train the model\n",
    "    \n",
    "    model.fit(X_train, y_train) \n",
    "\n",
    "    # Predict on the test set\n",
    "    \n",
    "    y_pred = model.predict(X_test)  \n",
    "    \n",
    "    # Evaluate the model\n",
    "    \n",
    "    accuracy = accuracy_score(y_test, y_pred)\n",
    "    \n",
    "    report = classification_report(y_test, y_pred)\n",
    "    \n",
    "    confusion = confusion_matrix(y_test, y_pred)\n",
    "    \n",
    "    # Store results\n",
    "    \n",
    "    results[name] = {\n",
    "        \n",
    "        \"accuracy\": accuracy,\n",
    "        \n",
    "        \"classification_report\": report,\n",
    "        \n",
    "        \"confusion_matrix\": confusion\n",
    "    }\n",
    "    \n",
    "    # Print results\n",
    "    \n",
    "    print(f\"Results for {name}:\")\n",
    "    \n",
    "    print(f\"Accuracy: {accuracy:.4f}\")\n",
    "    \n",
    "    print(\"Classification Report:\")\n",
    "    \n",
    "    print(report)\n",
    "    \n",
    "    print(\"Confusion Matrix:\")\n",
    "    \n",
    "    print(confusion)\n",
    "    \n",
    "    print(\"-\" * 50)"
   ]
  },
  {
   "cell_type": "markdown",
   "id": "22ab6c4b-0773-40cd-8a8e-28c2a4fcc0a6",
   "metadata": {},
   "source": [
    "Based on the modeling results, logistic regression outperforms the other models for three key reasons:\n",
    "\n",
    "1) Highest Accuracy: It achieves an accuracy score of 0.9607, the best among all models.\n",
    "\n",
    "2) Best F1 Scores: It has the highest F1 scores for both classes (0 and 1).\n",
    "\n",
    "3) Strong Precision and Recall:\n",
    "\n",
    "- For spam detection (class 1), it has a precision of 0.96, meaning 96% of emails labeled as spam are truly spam.\n",
    "\n",
    "- For non-spam emails (class 0), it has a recall of 0.99, meaning 99% of non-spam emails are correctly identified as non-spam.\n",
    "\n",
    "This combination of high precision for spam detection and high recall for non-spam emails ensures the model effectively blocks spam while allowing legitimate emails to pass through, achieving its goal."
   ]
  }
 ],
 "metadata": {
  "kernelspec": {
   "display_name": "Python 3 (ipykernel)",
   "language": "python",
   "name": "python3"
  },
  "language_info": {
   "codemirror_mode": {
    "name": "ipython",
    "version": 3
   },
   "file_extension": ".py",
   "mimetype": "text/x-python",
   "name": "python",
   "nbconvert_exporter": "python",
   "pygments_lexer": "ipython3",
   "version": "3.12.7"
  }
 },
 "nbformat": 4,
 "nbformat_minor": 5
}
