{
 "cells": [
  {
   "cell_type": "code",
   "execution_count": 2,
   "id": "76a806a3-02f9-47e4-aad5-f83e0118a67d",
   "metadata": {},
   "outputs": [],
   "source": [
    "import numpy as np\n",
    "import pandas as pd\n",
    "from sklearn.feature_extraction.text import TfidfVectorizer\n",
    "from sklearn.metrics.pairwise import cosine_similarity\n",
    "from sklearn.metrics import jaccard_score\n",
    "from itertools import combinations\n",
    "import time\n",
    "import os\n",
    "import re\n",
    "import string\n",
    "from nltk.tokenize import word_tokenize\n",
    "from nltk.corpus import stopwords\n",
    "from nltk.stem import WordNetLemmatizer"
   ]
  },
  {
   "cell_type": "code",
   "execution_count": 3,
   "id": "bc689bd0-c5e8-49d3-9218-a2817699a686",
   "metadata": {},
   "outputs": [],
   "source": [
    "directory = '/Users/pin.lyu//Documents/BC_Folder/NLP/Data/Movie'\n",
    "\n",
    "# Full file paths\n",
    "\n",
    "movies_path = os.path.join(directory, \"tmdb_5000_movies.csv\")\n",
    "\n",
    "credits_path = os.path.join(directory, \"tmdb_5000_credits.csv\")\n",
    "\n",
    "# Load data\n",
    "\n",
    "movies = pd.read_csv(movies_path)\n",
    "\n",
    "credits = pd.read_csv(credits_path)"
   ]
  },
  {
   "cell_type": "markdown",
   "id": "134a5767-16e8-4d80-a5a2-075f13f61083",
   "metadata": {},
   "source": [
    "### EDA"
   ]
  },
  {
   "cell_type": "code",
   "execution_count": 5,
   "id": "32fff6cb-e7f1-42d5-b9cb-1585c1b440ae",
   "metadata": {},
   "outputs": [
    {
     "data": {
      "text/html": [
       "<div>\n",
       "<style scoped>\n",
       "    .dataframe tbody tr th:only-of-type {\n",
       "        vertical-align: middle;\n",
       "    }\n",
       "\n",
       "    .dataframe tbody tr th {\n",
       "        vertical-align: top;\n",
       "    }\n",
       "\n",
       "    .dataframe thead th {\n",
       "        text-align: right;\n",
       "    }\n",
       "</style>\n",
       "<table border=\"1\" class=\"dataframe\">\n",
       "  <thead>\n",
       "    <tr style=\"text-align: right;\">\n",
       "      <th></th>\n",
       "      <th>budget</th>\n",
       "      <th>genres</th>\n",
       "      <th>homepage</th>\n",
       "      <th>id</th>\n",
       "      <th>keywords</th>\n",
       "      <th>original_language</th>\n",
       "      <th>original_title</th>\n",
       "      <th>overview</th>\n",
       "      <th>popularity</th>\n",
       "      <th>production_companies</th>\n",
       "      <th>production_countries</th>\n",
       "      <th>release_date</th>\n",
       "      <th>revenue</th>\n",
       "      <th>runtime</th>\n",
       "      <th>spoken_languages</th>\n",
       "      <th>status</th>\n",
       "      <th>tagline</th>\n",
       "      <th>title</th>\n",
       "      <th>vote_average</th>\n",
       "      <th>vote_count</th>\n",
       "    </tr>\n",
       "  </thead>\n",
       "  <tbody>\n",
       "    <tr>\n",
       "      <th>0</th>\n",
       "      <td>237000000</td>\n",
       "      <td>[{\"id\": 28, \"name\": \"Action\"}, {\"id\": 12, \"nam...</td>\n",
       "      <td>http://www.avatarmovie.com/</td>\n",
       "      <td>19995</td>\n",
       "      <td>[{\"id\": 1463, \"name\": \"culture clash\"}, {\"id\":...</td>\n",
       "      <td>en</td>\n",
       "      <td>Avatar</td>\n",
       "      <td>In the 22nd century, a paraplegic Marine is di...</td>\n",
       "      <td>150.437577</td>\n",
       "      <td>[{\"name\": \"Ingenious Film Partners\", \"id\": 289...</td>\n",
       "      <td>[{\"iso_3166_1\": \"US\", \"name\": \"United States o...</td>\n",
       "      <td>2009-12-10</td>\n",
       "      <td>2787965087</td>\n",
       "      <td>162.0</td>\n",
       "      <td>[{\"iso_639_1\": \"en\", \"name\": \"English\"}, {\"iso...</td>\n",
       "      <td>Released</td>\n",
       "      <td>Enter the World of Pandora.</td>\n",
       "      <td>Avatar</td>\n",
       "      <td>7.2</td>\n",
       "      <td>11800</td>\n",
       "    </tr>\n",
       "    <tr>\n",
       "      <th>1</th>\n",
       "      <td>300000000</td>\n",
       "      <td>[{\"id\": 12, \"name\": \"Adventure\"}, {\"id\": 14, \"...</td>\n",
       "      <td>http://disney.go.com/disneypictures/pirates/</td>\n",
       "      <td>285</td>\n",
       "      <td>[{\"id\": 270, \"name\": \"ocean\"}, {\"id\": 726, \"na...</td>\n",
       "      <td>en</td>\n",
       "      <td>Pirates of the Caribbean: At World's End</td>\n",
       "      <td>Captain Barbossa, long believed to be dead, ha...</td>\n",
       "      <td>139.082615</td>\n",
       "      <td>[{\"name\": \"Walt Disney Pictures\", \"id\": 2}, {\"...</td>\n",
       "      <td>[{\"iso_3166_1\": \"US\", \"name\": \"United States o...</td>\n",
       "      <td>2007-05-19</td>\n",
       "      <td>961000000</td>\n",
       "      <td>169.0</td>\n",
       "      <td>[{\"iso_639_1\": \"en\", \"name\": \"English\"}]</td>\n",
       "      <td>Released</td>\n",
       "      <td>At the end of the world, the adventure begins.</td>\n",
       "      <td>Pirates of the Caribbean: At World's End</td>\n",
       "      <td>6.9</td>\n",
       "      <td>4500</td>\n",
       "    </tr>\n",
       "    <tr>\n",
       "      <th>2</th>\n",
       "      <td>245000000</td>\n",
       "      <td>[{\"id\": 28, \"name\": \"Action\"}, {\"id\": 12, \"nam...</td>\n",
       "      <td>http://www.sonypictures.com/movies/spectre/</td>\n",
       "      <td>206647</td>\n",
       "      <td>[{\"id\": 470, \"name\": \"spy\"}, {\"id\": 818, \"name...</td>\n",
       "      <td>en</td>\n",
       "      <td>Spectre</td>\n",
       "      <td>A cryptic message from Bond’s past sends him o...</td>\n",
       "      <td>107.376788</td>\n",
       "      <td>[{\"name\": \"Columbia Pictures\", \"id\": 5}, {\"nam...</td>\n",
       "      <td>[{\"iso_3166_1\": \"GB\", \"name\": \"United Kingdom\"...</td>\n",
       "      <td>2015-10-26</td>\n",
       "      <td>880674609</td>\n",
       "      <td>148.0</td>\n",
       "      <td>[{\"iso_639_1\": \"fr\", \"name\": \"Fran\\u00e7ais\"},...</td>\n",
       "      <td>Released</td>\n",
       "      <td>A Plan No One Escapes</td>\n",
       "      <td>Spectre</td>\n",
       "      <td>6.3</td>\n",
       "      <td>4466</td>\n",
       "    </tr>\n",
       "  </tbody>\n",
       "</table>\n",
       "</div>"
      ],
      "text/plain": [
       "      budget                                             genres  \\\n",
       "0  237000000  [{\"id\": 28, \"name\": \"Action\"}, {\"id\": 12, \"nam...   \n",
       "1  300000000  [{\"id\": 12, \"name\": \"Adventure\"}, {\"id\": 14, \"...   \n",
       "2  245000000  [{\"id\": 28, \"name\": \"Action\"}, {\"id\": 12, \"nam...   \n",
       "\n",
       "                                       homepage      id  \\\n",
       "0                   http://www.avatarmovie.com/   19995   \n",
       "1  http://disney.go.com/disneypictures/pirates/     285   \n",
       "2   http://www.sonypictures.com/movies/spectre/  206647   \n",
       "\n",
       "                                            keywords original_language  \\\n",
       "0  [{\"id\": 1463, \"name\": \"culture clash\"}, {\"id\":...                en   \n",
       "1  [{\"id\": 270, \"name\": \"ocean\"}, {\"id\": 726, \"na...                en   \n",
       "2  [{\"id\": 470, \"name\": \"spy\"}, {\"id\": 818, \"name...                en   \n",
       "\n",
       "                             original_title  \\\n",
       "0                                    Avatar   \n",
       "1  Pirates of the Caribbean: At World's End   \n",
       "2                                   Spectre   \n",
       "\n",
       "                                            overview  popularity  \\\n",
       "0  In the 22nd century, a paraplegic Marine is di...  150.437577   \n",
       "1  Captain Barbossa, long believed to be dead, ha...  139.082615   \n",
       "2  A cryptic message from Bond’s past sends him o...  107.376788   \n",
       "\n",
       "                                production_companies  \\\n",
       "0  [{\"name\": \"Ingenious Film Partners\", \"id\": 289...   \n",
       "1  [{\"name\": \"Walt Disney Pictures\", \"id\": 2}, {\"...   \n",
       "2  [{\"name\": \"Columbia Pictures\", \"id\": 5}, {\"nam...   \n",
       "\n",
       "                                production_countries release_date     revenue  \\\n",
       "0  [{\"iso_3166_1\": \"US\", \"name\": \"United States o...   2009-12-10  2787965087   \n",
       "1  [{\"iso_3166_1\": \"US\", \"name\": \"United States o...   2007-05-19   961000000   \n",
       "2  [{\"iso_3166_1\": \"GB\", \"name\": \"United Kingdom\"...   2015-10-26   880674609   \n",
       "\n",
       "   runtime                                   spoken_languages    status  \\\n",
       "0    162.0  [{\"iso_639_1\": \"en\", \"name\": \"English\"}, {\"iso...  Released   \n",
       "1    169.0           [{\"iso_639_1\": \"en\", \"name\": \"English\"}]  Released   \n",
       "2    148.0  [{\"iso_639_1\": \"fr\", \"name\": \"Fran\\u00e7ais\"},...  Released   \n",
       "\n",
       "                                          tagline  \\\n",
       "0                     Enter the World of Pandora.   \n",
       "1  At the end of the world, the adventure begins.   \n",
       "2                           A Plan No One Escapes   \n",
       "\n",
       "                                      title  vote_average  vote_count  \n",
       "0                                    Avatar           7.2       11800  \n",
       "1  Pirates of the Caribbean: At World's End           6.9        4500  \n",
       "2                                   Spectre           6.3        4466  "
      ]
     },
     "execution_count": 5,
     "metadata": {},
     "output_type": "execute_result"
    }
   ],
   "source": [
    "movies.head(3)"
   ]
  },
  {
   "cell_type": "code",
   "execution_count": 6,
   "id": "22a6223c-a0db-487e-b7df-38dabfde6eaf",
   "metadata": {
    "scrolled": true
   },
   "outputs": [
    {
     "data": {
      "text/html": [
       "<div>\n",
       "<style scoped>\n",
       "    .dataframe tbody tr th:only-of-type {\n",
       "        vertical-align: middle;\n",
       "    }\n",
       "\n",
       "    .dataframe tbody tr th {\n",
       "        vertical-align: top;\n",
       "    }\n",
       "\n",
       "    .dataframe thead th {\n",
       "        text-align: right;\n",
       "    }\n",
       "</style>\n",
       "<table border=\"1\" class=\"dataframe\">\n",
       "  <thead>\n",
       "    <tr style=\"text-align: right;\">\n",
       "      <th></th>\n",
       "      <th>movie_id</th>\n",
       "      <th>title</th>\n",
       "      <th>cast</th>\n",
       "      <th>crew</th>\n",
       "    </tr>\n",
       "  </thead>\n",
       "  <tbody>\n",
       "    <tr>\n",
       "      <th>0</th>\n",
       "      <td>19995</td>\n",
       "      <td>Avatar</td>\n",
       "      <td>[{\"cast_id\": 242, \"character\": \"Jake Sully\", \"...</td>\n",
       "      <td>[{\"credit_id\": \"52fe48009251416c750aca23\", \"de...</td>\n",
       "    </tr>\n",
       "    <tr>\n",
       "      <th>1</th>\n",
       "      <td>285</td>\n",
       "      <td>Pirates of the Caribbean: At World's End</td>\n",
       "      <td>[{\"cast_id\": 4, \"character\": \"Captain Jack Spa...</td>\n",
       "      <td>[{\"credit_id\": \"52fe4232c3a36847f800b579\", \"de...</td>\n",
       "    </tr>\n",
       "    <tr>\n",
       "      <th>2</th>\n",
       "      <td>206647</td>\n",
       "      <td>Spectre</td>\n",
       "      <td>[{\"cast_id\": 1, \"character\": \"James Bond\", \"cr...</td>\n",
       "      <td>[{\"credit_id\": \"54805967c3a36829b5002c41\", \"de...</td>\n",
       "    </tr>\n",
       "  </tbody>\n",
       "</table>\n",
       "</div>"
      ],
      "text/plain": [
       "   movie_id                                     title  \\\n",
       "0     19995                                    Avatar   \n",
       "1       285  Pirates of the Caribbean: At World's End   \n",
       "2    206647                                   Spectre   \n",
       "\n",
       "                                                cast  \\\n",
       "0  [{\"cast_id\": 242, \"character\": \"Jake Sully\", \"...   \n",
       "1  [{\"cast_id\": 4, \"character\": \"Captain Jack Spa...   \n",
       "2  [{\"cast_id\": 1, \"character\": \"James Bond\", \"cr...   \n",
       "\n",
       "                                                crew  \n",
       "0  [{\"credit_id\": \"52fe48009251416c750aca23\", \"de...  \n",
       "1  [{\"credit_id\": \"52fe4232c3a36847f800b579\", \"de...  \n",
       "2  [{\"credit_id\": \"54805967c3a36829b5002c41\", \"de...  "
      ]
     },
     "execution_count": 6,
     "metadata": {},
     "output_type": "execute_result"
    }
   ],
   "source": [
    "credits.head(3)"
   ]
  },
  {
   "cell_type": "code",
   "execution_count": 7,
   "id": "7f89e44a-963e-4d6c-90d5-c9456e08d764",
   "metadata": {},
   "outputs": [
    {
     "name": "stdout",
     "output_type": "stream",
     "text": [
      "Shape of movies DataFrame: (4803, 20)\n",
      "Shape of credits DataFrame: (4803, 4)\n"
     ]
    }
   ],
   "source": [
    "# The shapes of the two data frames\n",
    "\n",
    "movies_shape = movies.shape\n",
    "\n",
    "credits_shape = credits.shape\n",
    "\n",
    "print(\"Shape of movies DataFrame:\", movies_shape)\n",
    "\n",
    "print(\"Shape of credits DataFrame:\", credits_shape)"
   ]
  },
  {
   "cell_type": "code",
   "execution_count": 8,
   "id": "e77495b2-f846-48b0-8c18-a64b15a6be4b",
   "metadata": {},
   "outputs": [
    {
     "data": {
      "text/plain": [
       "0    In the 22nd century, a paraplegic Marine is di...\n",
       "1    Captain Barbossa, long believed to be dead, ha...\n",
       "2    A cryptic message from Bond’s past sends him o...\n",
       "Name: overview, dtype: object"
      ]
     },
     "execution_count": 8,
     "metadata": {},
     "output_type": "execute_result"
    }
   ],
   "source": [
    "# Description of movies \n",
    "\n",
    "movies['overview'].head(3)"
   ]
  },
  {
   "cell_type": "markdown",
   "id": "20d2e560-1890-4a39-9c37-8e782e9d08d8",
   "metadata": {},
   "source": [
    "### Data Processing"
   ]
  },
  {
   "cell_type": "code",
   "execution_count": 10,
   "id": "dccc8967-ecae-4408-a32d-6bcdff9f5978",
   "metadata": {},
   "outputs": [
    {
     "data": {
      "text/plain": [
       "(4803, 3)"
      ]
     },
     "execution_count": 10,
     "metadata": {},
     "output_type": "execute_result"
    }
   ],
   "source": [
    "# Merge the 'credits' and 'movies' DataFrames on 'movie_id'\n",
    "\n",
    "movie_df = credits[['movie_id', 'title']].merge(movies[['id', 'overview']], left_on='movie_id', right_on='id', how='inner')\n",
    "\n",
    "# Select only the columns needed\n",
    "\n",
    "movie_df = movie_df[['movie_id', 'title', 'overview']]\n",
    "\n",
    "movie_df.shape"
   ]
  },
  {
   "cell_type": "code",
   "execution_count": 11,
   "id": "ebfa9c6f-58e0-4ed4-9c32-34aec7fbbb7f",
   "metadata": {},
   "outputs": [
    {
     "data": {
      "text/html": [
       "<div>\n",
       "<style scoped>\n",
       "    .dataframe tbody tr th:only-of-type {\n",
       "        vertical-align: middle;\n",
       "    }\n",
       "\n",
       "    .dataframe tbody tr th {\n",
       "        vertical-align: top;\n",
       "    }\n",
       "\n",
       "    .dataframe thead th {\n",
       "        text-align: right;\n",
       "    }\n",
       "</style>\n",
       "<table border=\"1\" class=\"dataframe\">\n",
       "  <thead>\n",
       "    <tr style=\"text-align: right;\">\n",
       "      <th></th>\n",
       "      <th>movie_id</th>\n",
       "      <th>title</th>\n",
       "      <th>overview</th>\n",
       "    </tr>\n",
       "  </thead>\n",
       "  <tbody>\n",
       "    <tr>\n",
       "      <th>0</th>\n",
       "      <td>19995</td>\n",
       "      <td>Avatar</td>\n",
       "      <td>In the 22nd century, a paraplegic Marine is di...</td>\n",
       "    </tr>\n",
       "    <tr>\n",
       "      <th>1</th>\n",
       "      <td>285</td>\n",
       "      <td>Pirates of the Caribbean: At World's End</td>\n",
       "      <td>Captain Barbossa, long believed to be dead, ha...</td>\n",
       "    </tr>\n",
       "    <tr>\n",
       "      <th>2</th>\n",
       "      <td>206647</td>\n",
       "      <td>Spectre</td>\n",
       "      <td>A cryptic message from Bond’s past sends him o...</td>\n",
       "    </tr>\n",
       "    <tr>\n",
       "      <th>3</th>\n",
       "      <td>49026</td>\n",
       "      <td>The Dark Knight Rises</td>\n",
       "      <td>Following the death of District Attorney Harve...</td>\n",
       "    </tr>\n",
       "    <tr>\n",
       "      <th>4</th>\n",
       "      <td>49529</td>\n",
       "      <td>John Carter</td>\n",
       "      <td>John Carter is a war-weary, former military ca...</td>\n",
       "    </tr>\n",
       "  </tbody>\n",
       "</table>\n",
       "</div>"
      ],
      "text/plain": [
       "   movie_id                                     title  \\\n",
       "0     19995                                    Avatar   \n",
       "1       285  Pirates of the Caribbean: At World's End   \n",
       "2    206647                                   Spectre   \n",
       "3     49026                     The Dark Knight Rises   \n",
       "4     49529                               John Carter   \n",
       "\n",
       "                                            overview  \n",
       "0  In the 22nd century, a paraplegic Marine is di...  \n",
       "1  Captain Barbossa, long believed to be dead, ha...  \n",
       "2  A cryptic message from Bond’s past sends him o...  \n",
       "3  Following the death of District Attorney Harve...  \n",
       "4  John Carter is a war-weary, former military ca...  "
      ]
     },
     "execution_count": 11,
     "metadata": {},
     "output_type": "execute_result"
    }
   ],
   "source": [
    "movie_df.head()"
   ]
  },
  {
   "cell_type": "code",
   "execution_count": 12,
   "id": "d7c2941a-145b-471b-bddd-0d15650b3718",
   "metadata": {},
   "outputs": [],
   "source": [
    "# handle NAs with ''\n",
    "\n",
    "movie_df['overview'] = movie_df['overview'].fillna('')"
   ]
  },
  {
   "cell_type": "code",
   "execution_count": 13,
   "id": "c82ef1b0-434e-4a72-86eb-667fb8f088a1",
   "metadata": {},
   "outputs": [],
   "source": [
    "def preprocess(text):\n",
    "    # Convert text to lowercase\n",
    "    text = text.lower()\n",
    "    \n",
    "    # Remove punctuation\n",
    "    text = re.sub(f\"[{re.escape(string.punctuation)}]\", \"\", text)\n",
    "    \n",
    "    # Tokenize words\n",
    "    tokens = word_tokenize(text)\n",
    "    \n",
    "    # Load stopwords\n",
    "    stop_words = set(stopwords.words(\"english\"))\n",
    "    \n",
    "    # Initialize lemmatizer\n",
    "    lemmatizer = WordNetLemmatizer()\n",
    "    \n",
    "    # Lemmatize and filter tokens\n",
    "    tokens = [lemmatizer.lemmatize(word) for word in tokens if word.isalpha() and word not in stop_words]\n",
    "    \n",
    "    return tokens"
   ]
  },
  {
   "cell_type": "code",
   "execution_count": 14,
   "id": "7108c6fc-dfa4-4a7d-85f1-81d7504bc78c",
   "metadata": {},
   "outputs": [
    {
     "data": {
      "text/plain": [
       "0       [century, paraplegic, marine, dispatched, moon...\n",
       "1       [captain, barbossa, long, believed, dead, come...\n",
       "2       [cryptic, message, bond, past, sends, trail, u...\n",
       "3       [following, death, district, attorney, harvey,...\n",
       "4       [john, carter, warweary, former, military, cap...\n",
       "                              ...                        \n",
       "4798    [el, mariachi, want, play, guitar, carry, fami...\n",
       "4799    [newlywed, couple, honeymoon, upended, arrival...\n",
       "4800    [signed, sealed, delivered, introduces, dedica...\n",
       "4801    [ambitious, new, york, attorney, sam, sent, sh...\n",
       "4802    [ever, since, second, grade, first, saw, et, e...\n",
       "Name: overview_tokens, Length: 4803, dtype: object"
      ]
     },
     "execution_count": 14,
     "metadata": {},
     "output_type": "execute_result"
    }
   ],
   "source": [
    "# Apply the preprocessing function to the column 'overview'\n",
    "\n",
    "movie_df['overview_tokens'] = movie_df['overview'].apply(preprocess)\n",
    "\n",
    "movie_df['overview_tokens']"
   ]
  },
  {
   "cell_type": "markdown",
   "id": "144ffc8d-2322-409e-b86e-a45cf079f2b6",
   "metadata": {},
   "source": [
    "### Cosine Similarity"
   ]
  },
  {
   "cell_type": "code",
   "execution_count": 16,
   "id": "fed6b789-1810-4ae2-93e7-648c3899a651",
   "metadata": {},
   "outputs": [],
   "source": [
    "# Start the timer\n",
    "\n",
    "start_time = time.time()"
   ]
  },
  {
   "cell_type": "code",
   "execution_count": 17,
   "id": "42cc3ad7-c4a9-47c0-b247-537d1d3c62cd",
   "metadata": {},
   "outputs": [
    {
     "data": {
      "text/plain": [
       "(4803, 20978)"
      ]
     },
     "execution_count": 17,
     "metadata": {},
     "output_type": "execute_result"
    }
   ],
   "source": [
    "# Initialize TF-IDF Vectorizer\n",
    "\n",
    "tfidf = TfidfVectorizer(stop_words='english')\n",
    "\n",
    "# Fit and transform the 'overview' column into TF-IDF vectors\n",
    "\n",
    "tfidf_matrix = tfidf.fit_transform(movie_df['overview'])\n",
    "\n",
    "tfidf_matrix.shape"
   ]
  },
  {
   "cell_type": "code",
   "execution_count": 18,
   "id": "f157365f-957f-4b2d-ba3c-0a3b4a93dde5",
   "metadata": {},
   "outputs": [],
   "source": [
    "# Computes the pairwise similarity between every pair of movies in the dataset\n",
    "\n",
    "cosine_sim = cosine_similarity(tfidf_matrix, tfidf_matrix)"
   ]
  },
  {
   "cell_type": "code",
   "execution_count": 19,
   "id": "d87abcaa-bc46-4863-bf53-0d9062669772",
   "metadata": {},
   "outputs": [
    {
     "name": "stdout",
     "output_type": "stream",
     "text": [
      "16                   The Avengers\n",
      "79                     Iron Man 2\n",
      "68                       Iron Man\n",
      "26     Captain America: Civil War\n",
      "227                Knight and Day\n",
      "Name: title, dtype: object\n",
      "Runtime: 0.1824 seconds\n"
     ]
    }
   ],
   "source": [
    "# Build the recommendation function\n",
    "\n",
    "def recommend_movies(title, cosine_sim=cosine_sim, movie_df=movie_df):\n",
    "    \n",
    "    # Get the index of the movie that matches the title\n",
    "    \n",
    "    idx = movie_df[movie_df['title'] == title].index[0]\n",
    "\n",
    "    # Get the pairwise similarity scores of all movies with that movie\n",
    "    \n",
    "    sim_scores = list(enumerate(cosine_sim[idx]))\n",
    "\n",
    "    # Sort the movies based on the similarity scores\n",
    "    \n",
    "    sim_scores = sorted(sim_scores, key=lambda x: x[1], reverse=True)\n",
    "\n",
    "    # Get the top 5 most similar movies (excluding itself)\n",
    "    \n",
    "    sim_scores = sim_scores[1:6]\n",
    "\n",
    "    # Get the movie indices\n",
    "    \n",
    "    movie_indices = [i[0] for i in sim_scores]\n",
    "\n",
    "    # Return the top 5 most similar movies\n",
    "    \n",
    "    return movie_df['title'].iloc[movie_indices]\n",
    "\n",
    "# Example usage\n",
    "\n",
    "print(recommend_movies('Avengers: Age of Ultron'))\n",
    "\n",
    "# ====================\n",
    "\n",
    "# End the timer\n",
    "end_time = time.time()\n",
    "\n",
    "# Calculate and print the runtime\n",
    "runtime = end_time - start_time\n",
    "print(f\"Runtime: {runtime:.4f} seconds\")"
   ]
  },
  {
   "cell_type": "markdown",
   "id": "225137c7-a64e-4ca2-97ab-b5d2485e9ff9",
   "metadata": {},
   "source": [
    "### Jaccard Similarity "
   ]
  },
  {
   "cell_type": "code",
   "execution_count": 21,
   "id": "83eb3776-28f8-4157-a39f-23a58b97ca54",
   "metadata": {},
   "outputs": [],
   "source": [
    "# Start the timer\n",
    "\n",
    "start_time = time.time()"
   ]
  },
  {
   "cell_type": "code",
   "execution_count": 22,
   "id": "b16724db-bc94-4df1-992c-c5e817190cae",
   "metadata": {},
   "outputs": [],
   "source": [
    "#movie_df['overview_tokens'] = movie_df['overview'].apply(lambda x: set(x.lower().split()))"
   ]
  },
  {
   "cell_type": "code",
   "execution_count": 23,
   "id": "7a1063a4-974a-4889-87a5-ea4383c2c4c1",
   "metadata": {},
   "outputs": [],
   "source": [
    "# Calculate Jaccard Similarity\n",
    "\n",
    "def compute_jaccard_similarity(movie_df):\n",
    "    \n",
    "    n_movies = len(movie_df)\n",
    "    \n",
    "    jaccard_sim = np.zeros((n_movies, n_movies))\n",
    "\n",
    "    # Compute Jaccard Similarity for each pair of movies\n",
    "    \n",
    "    for i, j in combinations(range(n_movies), 2):\n",
    "        \n",
    "        set_i = set(movie_df.loc[i, 'overview_tokens'])\n",
    "        \n",
    "        set_j = set(movie_df.loc[j, 'overview_tokens'])\n",
    "        \n",
    "        intersection = len(set_i.intersection(set_j))\n",
    "        \n",
    "        union = len(set_i.union(set_j))\n",
    "        \n",
    "        jaccard_sim[i, j] = intersection / union if union != 0 else 0\n",
    "        \n",
    "        jaccard_sim[j, i] = jaccard_sim[i, j]  # Symmetric matrix\n",
    "\n",
    "    # Fill diagonal with 1 (each movie is perfectly similar to itself)\n",
    "    \n",
    "    np.fill_diagonal(jaccard_sim, 1)\n",
    "\n",
    "    return jaccard_sim"
   ]
  },
  {
   "cell_type": "code",
   "execution_count": 24,
   "id": "fa20f2c2-d63a-4a08-bacc-236295994e89",
   "metadata": {},
   "outputs": [],
   "source": [
    "# Compute the Jaccard similarity matrix\n",
    "\n",
    "jaccard_sim = compute_jaccard_similarity(movie_df)"
   ]
  },
  {
   "cell_type": "code",
   "execution_count": 25,
   "id": "030189f5-4fe5-4fb2-ab13-530adc60e8a6",
   "metadata": {},
   "outputs": [
    {
     "name": "stdout",
     "output_type": "stream",
     "text": [
      "138          The Last Airbender\n",
      "344                 Unstoppable\n",
      "531     The Man from U.N.C.L.E.\n",
      "2048               Darling Lili\n",
      "2176                Simon Birch\n",
      "Name: title, dtype: object\n",
      "Runtime: 105.2647 seconds\n"
     ]
    }
   ],
   "source": [
    "# Define recommendation function\n",
    "\n",
    "def recommend_movies_jaccard(title, jaccard_sim=jaccard_sim, movie_df=movie_df):\n",
    "    \n",
    "    # Check if the movie title exists in the DataFrame\n",
    "    \n",
    "    if title not in movie_df['title'].values:\n",
    "        \n",
    "        return f\"Movie title '{title}' not found in the dataset.\"\n",
    "\n",
    "    # Get the index of the movie\n",
    "    \n",
    "    idx = movie_df[movie_df['title'] == title].index[0]\n",
    "\n",
    "    # Get the similarity scores for that movie\n",
    "    \n",
    "    sim_scores = list(enumerate(jaccard_sim[idx]))\n",
    "\n",
    "    # Sort the movies by similarity\n",
    "    \n",
    "    sim_scores = sorted(sim_scores, key=lambda x: x[1], reverse=True)\n",
    "\n",
    "    # Get the top 5 most similar movies (excluding itself)\n",
    "    \n",
    "    sim_scores = sim_scores[1:6]\n",
    "\n",
    "    # Get the movie indices\n",
    "    \n",
    "    movie_indices = [i[0] for i in sim_scores]\n",
    "\n",
    "    # Return the top 5 most similar movies\n",
    "    \n",
    "    return movie_df['title'].iloc[movie_indices]\n",
    "\n",
    "# Example \n",
    "\n",
    "print(recommend_movies_jaccard('Avengers: Age of Ultron'))\n",
    "\n",
    "# ====================\n",
    "\n",
    "# End the timer\n",
    "end_time = time.time()\n",
    "\n",
    "# Calculate and print the runtime\n",
    "runtime = end_time - start_time\n",
    "print(f\"Runtime: {runtime:.4f} seconds\")"
   ]
  },
  {
   "cell_type": "markdown",
   "id": "b362d2ba-e18e-4fce-83ab-ff280bb388c3",
   "metadata": {},
   "source": [
    "### Conclusion\n",
    "\n",
    "Cosine Similarity outperforms Jaccard Similarity in recommending similar movies for a user, yielding more accurate suggestions. It is also computationally more efficient, as it avoids set calculations required by Jaccard Similarity, leading to faster execution."
   ]
  },
  {
   "cell_type": "markdown",
   "id": "bd5108ec-b8d2-4aa5-b1a1-2aef549993ae",
   "metadata": {},
   "source": [
    "### Advantages of Cosine Similarity\n",
    "\n",
    "**1. Scale-invariant**: Cosine similarity focuses on the orientation (angle) of the vectors, not their magnitude. This is useful for text data, where the length of documents (overviews) can vary.\n",
    "\n",
    "**2. Interpretable**: The similarity scores range from 0 to 1, making it easy to interpret and use for recommendations.\n",
    "\n",
    "**3. Efficient**: Computationally efficient for comparing large numbers of text documents. Much much faster than Jaccard Similarity. 0.18 secs vs 105.36 secs"
   ]
  }
 ],
 "metadata": {
  "kernelspec": {
   "display_name": "Python 3 (ipykernel)",
   "language": "python",
   "name": "python3"
  },
  "language_info": {
   "codemirror_mode": {
    "name": "ipython",
    "version": 3
   },
   "file_extension": ".py",
   "mimetype": "text/x-python",
   "name": "python",
   "nbconvert_exporter": "python",
   "pygments_lexer": "ipython3",
   "version": "3.12.7"
  },
  "panel-cell-order": [
   "6b041909-f882-41d4-8041-839fcc2abf18",
   "e2b5e2c3-78db-4722-8d42-d72afe01ed27",
   "4672f706-0fc9-4c08-9b50-9a9199e96a1e",
   "9217063f-3076-476f-97f0-66917d89f171",
   "73f14148-c27f-4b70-88b8-0a5da07cdfa5",
   "1b02ece6-91e7-45ee-b0ea-9859c9352e26",
   "c0678450-a50c-4af5-ba8a-0e067666153d",
   "22ab6c4b-0773-40cd-8a8e-28c2a4fcc0a6"
  ]
 },
 "nbformat": 4,
 "nbformat_minor": 5
}
